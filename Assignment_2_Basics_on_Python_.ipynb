{
  "nbformat": 4,
  "nbformat_minor": 0,
  "metadata": {
    "colab": {
      "provenance": [],
      "authorship_tag": "ABX9TyM45LbjR7jYJQXmSD3pMTAG",
      "include_colab_link": true
    },
    "kernelspec": {
      "name": "python3",
      "display_name": "Python 3"
    },
    "language_info": {
      "name": "python"
    }
  },
  "cells": [
    {
      "cell_type": "markdown",
      "metadata": {
        "id": "view-in-github",
        "colab_type": "text"
      },
      "source": [
        "<a href=\"https://colab.research.google.com/github/Yael0706/IA-ACTIVITIES/blob/main/Assignment_2_Basics_on_Python_.ipynb\" target=\"_parent\"><img src=\"https://colab.research.google.com/assets/colab-badge.svg\" alt=\"Open In Colab\"/></a>"
      ]
    },
    {
      "cell_type": "code",
      "source": [
        "# Edgar Yael Moreno Garcia\n",
        "#Id: 2021283\n",
        "# Class day: Tuesday\n",
        "# Hour: N4-N6\n",
        "import pandas as pd\n",
        "\n",
        "# Function named analyze_texto to analyze text\n",
        "def analyze_text(file_path):\n",
        "    try:\n",
        "        #cCommand to open the 'text_1.txt 'file and read its content\n",
        "        file = open(file_path, 'r')\n",
        "        text = file.read()\n",
        "        file.close()\n",
        "    except:\n",
        "        print(\"File is not found.\")\n",
        "        return\n",
        "\n",
        "    # Count words\n",
        "    words = text.split()\n",
        "    total_words = len(words)\n",
        "\n",
        "    # Count sentences\n",
        "    sentences = text.split('.')\n",
        "    total_sentences = len(sentences)\n",
        "\n",
        "    # Count paragraphs\n",
        "    paragraphs = text.split('\\n\\n')\n",
        "    total_paragraphs = len(paragraphs)\n",
        "\n",
        "    # Calculate average word length\n",
        "    average_length = sum(len(word) for word in words) / total_words\n",
        "\n",
        "    # Most common words\n",
        "    word_series = pd.Series(words)\n",
        "    common_words = word_series.value_counts().head(5)\n",
        "\n",
        "\n",
        "    print(\"Total words:\", total_words)\n",
        "    print(\"Total sentences:\", total_sentences)\n",
        "    print(\"Total paragraphs:\", total_paragraphs)\n",
        "    print(\"Average word length:\", round(average_length, 2))\n",
        "    print(\"Most common words:\", common_words.to_dict())\n",
        "\n",
        "file_path = 'The Mysterious Lighthouse.txt'\n",
        "\n",
        "analyze_text(file_path)"
      ],
      "metadata": {
        "colab": {
          "base_uri": "https://localhost:8080/"
        },
        "id": "E_K1RlS_FplV",
        "outputId": "d0b234a1-49f0-4b15-8988-ac052c04e395"
      },
      "execution_count": null,
      "outputs": [
        {
          "output_type": "stream",
          "name": "stdout",
          "text": [
            "Total words: 382\n",
            "Total sentences: 27\n",
            "Total paragraphs: 12\n",
            "Average word length: 4.51\n",
            "Most common words: {'the': 25, 'a': 15, 'to': 12, 'and': 9, 'she': 7}\n"
          ]
        }
      ]
    },
    {
      "cell_type": "code",
      "source": [
        "# Import the random library to enable random selection of words\n",
        "import random\n",
        "\n",
        "# Function called simplified_hangman\n",
        "def simplified_hangman():\n",
        "    # List of words from which one will be randomly selected for the game\n",
        "    words = ['intelligence', 'computer', 'iphone', 'microprocessor']\n",
        "\n",
        "    word = random.choice(words)\n",
        "\n",
        "    hidden = ['_'] * len(word)\n",
        "\n",
        "    lives = 6\n",
        "\n",
        "    print(f'Welcome! You have {lives} lives.')\n",
        "\n",
        "    # loop that will continue as long as the player has lives and the word is not fully revealed\n",
        "    while lives > 0 and '_' in hidden:\n",
        "\n",
        "        print(' '.join(hidden))\n",
        "\n",
        "        guess = input('Guess a letter: ').lower()\n",
        "\n",
        "        if len(guess) != 1:\n",
        "            print('Guess one letter.')\n",
        "            continue\n",
        "\n",
        "        # Check if the guessed letter has already been revealed\n",
        "        if guess in hidden:\n",
        "            print('Already guessed.')\n",
        "            continue\n",
        "\n",
        "        # Check if the guessed letter is in the word\n",
        "        if guess in word:\n",
        "            # Loop through the word to find all occurrences of the guessed letter\n",
        "            for i in range(len(word)):\n",
        "                if word[i] == guess:\n",
        "                    # Reveal the guessed letter in the hidden word\n",
        "                    hidden[i] = guess\n",
        "        else:\n",
        "            lives -= 1\n",
        "            print(f'Wrong. {lives} lives left.')\n",
        "\n",
        "    if '_' not in hidden:\n",
        "        print('You won!'+ word)\n",
        "    else:\n",
        "        print('You lost, the word was ' + word)\n",
        "\n",
        "simplified_hangman()\n"
      ],
      "metadata": {
        "colab": {
          "base_uri": "https://localhost:8080/"
        },
        "id": "NcIcd6GSGyn6",
        "outputId": "7e12c32c-af26-43fa-8d68-246bb7e15cac"
      },
      "execution_count": null,
      "outputs": [
        {
          "output_type": "stream",
          "name": "stdout",
          "text": [
            "Welcome! You have 6 lives.\n",
            "_ _ _ _ _ _ _ _ _ _ _ _ _ _\n",
            "Guess a letter: a\n",
            "Wrong. 5 lives left.\n",
            "_ _ _ _ _ _ _ _ _ _ _ _ _ _\n",
            "Guess a letter: e\n",
            "_ _ _ _ _ _ _ _ _ e _ _ _ _\n",
            "Guess a letter: i\n",
            "_ i _ _ _ _ _ _ _ e _ _ _ _\n",
            "Guess a letter: o\n",
            "_ i _ _ o _ _ o _ e _ _ o _\n",
            "Guess a letter: m\n",
            "m i _ _ o _ _ o _ e _ _ o _\n",
            "Guess a letter: c\n",
            "m i c _ o _ _ o c e _ _ o _\n",
            "Guess a letter: r\n",
            "m i c r o _ r o c e _ _ o r\n",
            "Guess a letter: s\n",
            "m i c r o _ r o c e s s o r\n",
            "Guess a letter: p\n",
            "You won!microprocessor\n"
          ]
        }
      ]
    },
    {
      "cell_type": "code",
      "source": [
        "import random\n",
        "# This is my function to start the guessing game\n",
        "def start_guessing_game():\n",
        "    # The computer picks a number between 1 and 100\n",
        "    my_number = random.randint(1, 100)\n",
        "    # I'll keep track of the number of tries here\n",
        "    tries = 0\n",
        "\n",
        "    print('Hi there! Let\\'s play a guessing game.')\n",
        "    print('I have a number between 1 and 100. Can you guess it?')\n",
        "\n",
        "    while True:  # This loop will keep running until we break it\n",
        "        your_guess = int(input('What\\'s your guess? '))\n",
        "        tries += 1\n",
        "\n",
        "        if your_guess == my_number:\n",
        "            print(f'The number you guessed its correct, it took {tries} tries.')\n",
        "            break\n",
        "        elif your_guess > my_number:\n",
        "            print('Too high. Try again.')\n",
        "        else:\n",
        "            print('Too low. Try again.')\n",
        "\n",
        "start_guessing_game()\n"
      ],
      "metadata": {
        "colab": {
          "base_uri": "https://localhost:8080/"
        },
        "id": "mHMEuIYgHPRl",
        "outputId": "7afc3446-4e22-40a4-d770-4069c6f6f226"
      },
      "execution_count": null,
      "outputs": [
        {
          "output_type": "stream",
          "name": "stdout",
          "text": [
            "Hi there! Let's play a guessing game.\n",
            "I have a number between 1 and 100. Can you guess it?\n",
            "What's your guess? 55\n",
            "Too high. Try again.\n",
            "What's your guess? 54\n",
            "Too high. Try again.\n",
            "What's your guess? 30\n",
            "Too high. Try again.\n",
            "What's your guess? 20\n",
            "Too low. Try again.\n",
            "What's your guess? 25\n",
            "Too low. Try again.\n",
            "What's your guess? 28\n",
            "Too high. Try again.\n",
            "What's your guess? 27\n",
            "The number you guessed its correct, it took 7 tries.\n"
          ]
        }
      ]
    }
  ]
}